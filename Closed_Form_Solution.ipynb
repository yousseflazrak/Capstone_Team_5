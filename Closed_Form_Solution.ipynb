{
 "cells": [
  {
   "cell_type": "markdown",
   "metadata": {},
   "source": [
    "## Solving the Almgren-Chriss framework through dynamic programming"
   ]
  },
  {
   "cell_type": "code",
   "execution_count": 2,
   "metadata": {},
   "outputs": [],
   "source": [
    "import numpy as np\n",
    "import pandas as pd\n",
    "import time\n",
    "import matplotlib.pyplot as plt"
   ]
  },
  {
   "cell_type": "code",
   "execution_count": 3,
   "metadata": {},
   "outputs": [],
   "source": [
    "# Utilities\n",
    "def h(x, alpha, eta):\n",
    "    return eta * x ** (alpha)\n",
    "\n",
    "def g(x, beta, gamma):\n",
    "    return gamma * x ** (beta)\n",
    "\n",
    "def H(x,n,psi,alpha,beta,gamma,eta,sigma=0.3,tau=0.5):\n",
    "    \"\"\"\n",
    "    Hamiltonian equation. To be minimized through dynamic programming.\n",
    "    \"\"\"\n",
    "    res = psi*n*g(n/tau,beta,gamma) + psi*(x-n)*tau*h(n/tau,alpha,eta) + 0.5*(psi**2)*(sigma**2)*tau*((x-n)**2)\n",
    "    return res"
   ]
  },
  {
   "cell_type": "code",
   "execution_count": 4,
   "metadata": {},
   "outputs": [],
   "source": [
    "def dynamic_programming(nb_T, X_total, psi, alpha, beta, gamma, eta, plot='True'):\n",
    "    \n",
    "    \"\"\"\n",
    "    MODEL\n",
    "    - Bellman equation and value iteration for solving the Markov\n",
    "      Decision Process of the Almgren-Chriss model.\n",
    "    \n",
    "    INPUTS\n",
    "    - nb_T,       number of time steps\n",
    "    - X_total,    number of shares to be liquidated\n",
    "    - psi,        risk aversion\n",
    "    \"\"\"\n",
    "    \n",
    "    ### Initialization\n",
    "    u = np.zeros(shape=(nb_T, X_total+1), dtype=\"float64\")      # value function\n",
    "    b = np.zeros(shape=(nb_T, X_total+1), dtype=\"int\")          # best move\n",
    "    inventoryforX = np.zeros(shape=(nb_T,1), dtype=\"int\")       # evolution of inventory\n",
    "    inventoryforX[0] = X_total\n",
    "    N = []                                                      # optimal selling trajectory\n",
    "    tau = 0.5\n",
    "    \n",
    "    ### Market microstructure: volatility, correlation\n",
    "    ### [insert dynamic volatility data]\n",
    "    \n",
    "    ### Terminal condition\n",
    "    for x in range(X_total+1):\n",
    "        u[nb_T - 1, x] = np.exp(x * h(x/tau, alpha, eta))\n",
    "        b[nb_T - 1, x] = x\n",
    "    \n",
    "    ### Backwards induction\n",
    "    for t in range(nb_T-2, -1, -1):\n",
    "        for x in range(X_total+1):\n",
    "            \n",
    "            best_value = u[t+1,0] * np.exp(H(x, x, psi, alpha, beta, gamma, eta))\n",
    "            best_n = x\n",
    "            \n",
    "            for n in range(x):\n",
    "                # We compute the utility function if we sell n shares\n",
    "                current_value = u[t+1,x-n] * np.exp(H(x, n, psi, alpha, beta, gamma, eta))\n",
    "                \n",
    "                if current_value < best_value:\n",
    "                    best_value = current_value\n",
    "                    best_n = n   # nb of shares to liquidate\n",
    "               \n",
    "            u[t,x] = best_value\n",
    "            b[t,x] = best_n\n",
    "    \n",
    "    ### Optimal trajectory\n",
    "    for t in range(1, nb_T):\n",
    "        inventoryforX[t] = inventoryforX[t-1] - b[t,inventoryforX[t-1]]\n",
    "        N.append(b[t,inventoryforX[t-1]])\n",
    "    \n",
    "    N = np.asarray(N)\n",
    "    \n",
    "    ### Plot results\n",
    "    if plot=='True':\n",
    "        plt.figure(figsize=(7,5))\n",
    "        plt.plot(inventoryforX, color='blue', lw=1.5)\n",
    "        plt.xlabel('Trading periods')\n",
    "        plt.ylabel('Number of shares')\n",
    "        plt.grid(True)\n",
    "        plt.show()\n",
    "    \n",
    "    return u, b, inventoryforX, N"
   ]
  },
  {
   "cell_type": "code",
   "execution_count": null,
   "metadata": {},
   "outputs": [],
   "source": [
    "u, b, p, N = dynamic_programming(nb_T=60, X_total=1000000, psi=1e-6, alpha=1, beta=1, gamma=(1/8)/(0.1*5e6), eta=(1/8)/(0.01*5e6), plot='False')"
   ]
  },
  {
   "cell_type": "code",
   "execution_count": null,
   "metadata": {},
   "outputs": [],
   "source": []
  }
 ],
 "metadata": {
  "kernelspec": {
   "display_name": "Python 3",
   "language": "python",
   "name": "python3"
  },
  "language_info": {
   "codemirror_mode": {
    "name": "ipython",
    "version": 3
   },
   "file_extension": ".py",
   "mimetype": "text/x-python",
   "name": "python",
   "nbconvert_exporter": "python",
   "pygments_lexer": "ipython3",
   "version": "3.7.4"
  }
 },
 "nbformat": 4,
 "nbformat_minor": 2
}
